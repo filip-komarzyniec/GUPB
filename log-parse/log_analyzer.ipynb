{
 "cells": [
  {
   "cell_type": "code",
   "execution_count": 10,
   "id": "talented-drunk",
   "metadata": {},
   "outputs": [],
   "source": [
    "import json\n",
    "import matplotlib.pyplot as plt\n",
    "import pandas as pd\n",
    "import glob\n",
    "from collections import defaultdict"
   ]
  },
  {
   "cell_type": "markdown",
   "id": "palestinian-virus",
   "metadata": {},
   "source": [
    "## Core components"
   ]
  },
  {
   "cell_type": "markdown",
   "id": "independent-retirement",
   "metadata": {},
   "source": [
    "#### Parse JSON logs"
   ]
  },
  {
   "cell_type": "code",
   "execution_count": 56,
   "id": "thirty-gabriel",
   "metadata": {},
   "outputs": [],
   "source": [
    "def parse_champions(logs_file_iter):\n",
    "    result = {}\n",
    "    current_line = next(logs_file_iter, '{}')\n",
    "    line_json = json.loads(current_line)\n",
    "    while line_json.get('type', None) == 'ChampionSpawnedReport':\n",
    "        name = line_json['value']['controller_name']\n",
    "        coords = line_json['value']['coords']\n",
    "        champion_data = {\n",
    "            'name': name,\n",
    "            'start_coords': coords,\n",
    "            'last_coords': coords,\n",
    "            'failed_steps': [],  # every item is a dict {'episode', 'error_text', 'coords'}\n",
    "            'actions': [],\n",
    "            'episode_died': -1,\n",
    "            'last_attack_type': None\n",
    "        }\n",
    "        result[name] = champion_data\n",
    "        current_line = next(logs_file_iter, '{}')\n",
    "        line_json = json.loads(current_line)\n",
    "    return result, current_line if current_line != '{}' else None"
   ]
  },
  {
   "cell_type": "code",
   "execution_count": 60,
   "id": "grand-upper",
   "metadata": {},
   "outputs": [],
   "source": [
    "def parse_game_course(current_line, logs_file_iter, game_report):\n",
    "    if current_line is None:\n",
    "        return None\n",
    "    champions_info = game_report['bots']\n",
    "    \n",
    "    line_json = json.loads(current_line)\n",
    "    episode_number = 0\n",
    "    mist_started = False\n",
    "    while line_json.get('type', None) not in ('GameStartReport', None):\n",
    "        event_type = line_json['type']\n",
    "        bot_name = line_json.get('value', {}).get('controller_name', None)\n",
    "        bot_data = champions_info.get(bot_name, None)\n",
    "        \n",
    "        if event_type == 'EpisodeStartReport':\n",
    "            game_report['episodes_number'] = episode_number\n",
    "            episode_number = int(line_json['value']['episode_number'])\n",
    "        elif line_json['severity'] == 'WARNING':\n",
    "            error_text = line_json['value']['exception']\n",
    "            coords = bot_data['last_coords']\n",
    "            bot_data['failed_steps'].append({\n",
    "                'episode': episode_number,\n",
    "                'error_text': error_text,\n",
    "                'coords': coords\n",
    "            })\n",
    "        elif event_type == 'ChampionPickedActionReport':\n",
    "            action = line_json['value']['action_name']\n",
    "            bot_data['actions'].append(action)\n",
    "        elif event_type == 'ChampionEnteredTileReport':\n",
    "            new_coords = line_json['value']['tile_coords']\n",
    "            bot_data['last_coords'] = new_coords\n",
    "        elif event_type == 'ChampionDeathReport':\n",
    "            bot_data['episode_died'] = episode_number\n",
    "        elif event_type == 'ChampionDamagedByMistReport':\n",
    "            bot_data['last_attack_type'] = 'mist'\n",
    "        elif event_type == 'ChampionDamagedByWeaponCutReport':\n",
    "            bot_data['last_attack_type'] = 'weapon'\n",
    "        elif event_type == 'MistRadiusReducedReport' and not mist_started:\n",
    "            mist_started = True\n",
    "            game_report['mist_episode'] = episode_number\n",
    "        \n",
    "        current_line = next(logs_file_iter, '{}')\n",
    "        line_json = json.loads(current_line)\n",
    "    return current_line if current_line != '{}' else None"
   ]
  },
  {
   "cell_type": "code",
   "execution_count": 61,
   "id": "decent-effort",
   "metadata": {},
   "outputs": [],
   "source": [
    "def parse_games_json_logs(logs_path):\n",
    "    with open(logs_path) as logs_file:\n",
    "        logs_file_iter = iter(logs_file)\n",
    "        result = []\n",
    "        current_line = next(logs_file_iter, None)\n",
    "        while current_line is not None:\n",
    "            game_json = json.loads(current_line)\n",
    "            arena_json = json.loads(next(logs_file_iter, 'null'))\n",
    "            menhir_json = json.loads(next(logs_file_iter, 'null'))\n",
    "            champions, current_line = parse_champions(logs_file_iter)\n",
    "            if not all((arena_json, menhir_json, champions)):\n",
    "                print('Not all metadata provided')\n",
    "                break\n",
    "            game_report = {\n",
    "                'game_number': int(game_json['value']['game_number']),\n",
    "                'mist_episode': -1,\n",
    "                'menhir_pos': menhir_json['value']['position'],\n",
    "                'arena_name': arena_json['value']['arena_name'],\n",
    "                'bots': champions,\n",
    "                'episodes_number': 0\n",
    "            }\n",
    "\n",
    "            current_line = parse_game_course(current_line, logs_file_iter, game_report)\n",
    "            result.append(game_report)\n",
    "    return result"
   ]
  },
  {
   "cell_type": "markdown",
   "id": "tamil-stanford",
   "metadata": {},
   "source": [
    "#### Parsed data analysis"
   ]
  },
  {
   "cell_type": "markdown",
   "id": "lovely-gates",
   "metadata": {},
   "source": [
    "## Before running the parser\n",
    "> The parser `.ipynb` is put under `GUPB/log-parse` and all paths to logs are relative to this location. Be sure that the files are downloaded and placed there, because they are not under Git"
   ]
  },
  {
   "cell_type": "markdown",
   "id": "approximate-irish",
   "metadata": {},
   "source": [
    "## Example log"
   ]
  },
  {
   "cell_type": "code",
   "execution_count": 62,
   "id": "furnished-ordering",
   "metadata": {},
   "outputs": [],
   "source": [
    "example_path = 'example_log.json'\n",
    "example_parsed_data = parse_games_json_logs(example_path)"
   ]
  },
  {
   "cell_type": "code",
   "execution_count": 66,
   "id": "august-wagon",
   "metadata": {},
   "outputs": [
    {
     "data": {
      "text/plain": [
       "['game_number: 1',\n",
       " 'mist_episode: 25',\n",
       " 'menhir_pos: [9, 9]',\n",
       " 'arena_name: isolated_shrine',\n",
       " 'episodes_number: 477']"
      ]
     },
     "execution_count": 66,
     "metadata": {},
     "output_type": "execute_result"
    }
   ],
   "source": [
    "[f'{key}: {example_parsed_data[0][key]}' for key in example_parsed_data[0] if key != 'bots']"
   ]
  },
  {
   "cell_type": "markdown",
   "id": "bronze-order",
   "metadata": {},
   "source": [
    "## 11:15 games"
   ]
  },
  {
   "cell_type": "code",
   "execution_count": 9,
   "id": "beneficial-samoa",
   "metadata": {},
   "outputs": [],
   "source": [
    "DIR_PATH_11_15 = '11_15__2021_10_24'\n",
    "log_files = glob.glob(f'{DIR_PATH_11_15}/*.json')"
   ]
  },
  {
   "cell_type": "code",
   "execution_count": 21,
   "id": "crucial-apparel",
   "metadata": {},
   "outputs": [],
   "source": [
    "json_log_path = log_files[0]"
   ]
  },
  {
   "cell_type": "code",
   "execution_count": null,
   "id": "impressed-aberdeen",
   "metadata": {},
   "outputs": [],
   "source": [
    "games = "
   ]
  }
 ],
 "metadata": {
  "kernelspec": {
   "display_name": "Python 3",
   "language": "python",
   "name": "python3"
  },
  "language_info": {
   "codemirror_mode": {
    "name": "ipython",
    "version": 3
   },
   "file_extension": ".py",
   "mimetype": "text/x-python",
   "name": "python",
   "nbconvert_exporter": "python",
   "pygments_lexer": "ipython3",
   "version": "3.8.5"
  }
 },
 "nbformat": 4,
 "nbformat_minor": 5
}
