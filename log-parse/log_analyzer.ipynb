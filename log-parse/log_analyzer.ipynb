{
 "cells": [
  {
   "cell_type": "code",
   "execution_count": 10,
   "id": "talented-drunk",
   "metadata": {},
   "outputs": [],
   "source": [
    "import json\n",
    "import matplotlib.pyplot as plt\n",
    "import pandas as pd\n",
    "import glob\n",
    "from collections import defaultdict"
   ]
  },
  {
   "cell_type": "markdown",
   "id": "level-observation",
   "metadata": {},
   "source": [
    "## Core components"
   ]
  },
  {
   "cell_type": "markdown",
   "id": "available-queens",
   "metadata": {},
   "source": [
    "#### Parse JSON logs"
   ]
  },
  {
   "cell_type": "code",
   "execution_count": 44,
   "id": "direct-recovery",
   "metadata": {},
   "outputs": [],
   "source": [
    "def parse_champions(logs_file_iter):\n",
    "    result = {}\n",
    "    current_line = next(logs_file_iter, '{}')\n",
    "    line_json = json.loads(current_line)\n",
    "    while line_json.get('type', None) == 'ChampionSpawnedReport':\n",
    "        name = line_json['value']['controller_name']\n",
    "        coords = line_json['value']['coords']\n",
    "        champion_data = {\n",
    "            'name': name,\n",
    "            'start_coords': coords,\n",
    "            'last_coords': coords,\n",
    "            'failed_teps': [],  # every item is a dict {'episode', 'error_text', 'coord'}\n",
    "            'actions': [],\n",
    "            'episode_died': 0\n",
    "        }\n",
    "        result[name] = champion_data\n",
    "        current_line = next(logs_file_iter, '{}')\n",
    "        line_json = json.loads(current_line)\n",
    "    return result, current_line if current_line != '{}' else None"
   ]
  },
  {
   "cell_type": "code",
   "execution_count": 43,
   "id": "enormous-voice",
   "metadata": {},
   "outputs": [],
   "source": [
    "def parse_game_course(current_line, logs_file_iter, game_report):\n",
    "    if current_line is None:\n",
    "        return None\n",
    "    champions_info = game_report['bots']\n",
    "    \n",
    "    line_json = json.loads(current_line)\n",
    "    while line_json.get('type', None) not in ('GameStartReport', None):\n",
    "        current_line = next(logs_file_iter, '{}')\n",
    "        line_json = json.loads(current_line)\n",
    "    return current_line if current_line != '{}' else None"
   ]
  },
  {
   "cell_type": "code",
   "execution_count": 48,
   "id": "driven-activation",
   "metadata": {},
   "outputs": [],
   "source": [
    "def parse_games_json_logs(logs_path):\n",
    "    with open(logs_path) as logs_file:\n",
    "        logs_file_iter = iter(logs_file)\n",
    "        result = []\n",
    "        current_line = next(logs_file_iter, None)\n",
    "        while current_line is not None:\n",
    "            game_json = json.loads(current_line)\n",
    "            arena_json = json.loads(next(logs_file_iter, 'null'))\n",
    "            menhir_json = json.loads(next(logs_file_iter, 'null'))\n",
    "            champions, current_line = parse_champions(logs_file_iter)\n",
    "            if not all((arena_json, menhir_json, champions)):\n",
    "                print('Not all metadata provided')\n",
    "                break\n",
    "            game_report = {\n",
    "                'game_number': int(game_json['value']['game_number']),\n",
    "                'mist_episode': -1,\n",
    "                'menhir_pos': menhir_json['value']['position'],\n",
    "                'arena_name': arena_json['value']['arena_name'],\n",
    "                'bots': champions,\n",
    "                'episodes_number': 0\n",
    "            }\n",
    "\n",
    "            current_line = parse_game_course(current_line, logs_file_iter, game_report)\n",
    "            result.append(game_report)\n",
    "    return result"
   ]
  },
  {
   "cell_type": "markdown",
   "id": "rural-edinburgh",
   "metadata": {},
   "source": [
    "#### Parsed data analysis"
   ]
  },
  {
   "cell_type": "markdown",
   "id": "reserved-filename",
   "metadata": {},
   "source": [
    "## Before running the parser\n",
    "> The parser `.ipynb` is put under `GUPB/log-parse` and all paths to logs are relative to this location. Be sure that the files are downloaded and placed there, because they are not under Git"
   ]
  },
  {
   "cell_type": "markdown",
   "id": "tribal-organ",
   "metadata": {},
   "source": [
    "## Example log"
   ]
  },
  {
   "cell_type": "code",
   "execution_count": 49,
   "id": "horizontal-gateway",
   "metadata": {},
   "outputs": [],
   "source": [
    "example_path = 'example_log.json'\n",
    "example_parsed_data = parse_games_json_logs(example_path)"
   ]
  },
  {
   "cell_type": "code",
   "execution_count": 51,
   "id": "passing-charger",
   "metadata": {},
   "outputs": [
    {
     "data": {
      "text/plain": [
       "[{'game_number': 1,\n",
       "  'mist_episode': -1,\n",
       "  'menhir_pos': [9, 9],\n",
       "  'arena_name': 'isolated_shrine',\n",
       "  'bots': {'RandomControllerCecilia': {'name': 'RandomControllerCecilia',\n",
       "    'start_coords': [10, 17],\n",
       "    'last_coords': [10, 17],\n",
       "    'failed_teps': [],\n",
       "    'actions': [],\n",
       "    'episode_died': 0},\n",
       "   'RandomControllerBob': {'name': 'RandomControllerBob',\n",
       "    'start_coords': [11, 14],\n",
       "    'last_coords': [11, 14],\n",
       "    'failed_teps': [],\n",
       "    'actions': [],\n",
       "    'episode_died': 0},\n",
       "   'EvaderController--Marwin': {'name': 'EvaderController--Marwin',\n",
       "    'start_coords': [6, 1],\n",
       "    'last_coords': [6, 1],\n",
       "    'failed_teps': [],\n",
       "    'actions': [],\n",
       "    'episode_died': 0},\n",
       "   'RandomControllerDarius': {'name': 'RandomControllerDarius',\n",
       "    'start_coords': [15, 5],\n",
       "    'last_coords': [15, 5],\n",
       "    'failed_teps': [],\n",
       "    'actions': [],\n",
       "    'episode_died': 0},\n",
       "   'RandomControllerAlice': {'name': 'RandomControllerAlice',\n",
       "    'start_coords': [3, 12],\n",
       "    'last_coords': [3, 12],\n",
       "    'failed_teps': [],\n",
       "    'actions': [],\n",
       "    'episode_died': 0}},\n",
       "  'episodes_number': 0},\n",
       " {'game_number': 2,\n",
       "  'mist_episode': -1,\n",
       "  'menhir_pos': [9, 9],\n",
       "  'arena_name': 'isolated_shrine',\n",
       "  'bots': {'RandomControllerDarius': {'name': 'RandomControllerDarius',\n",
       "    'start_coords': [17, 2],\n",
       "    'last_coords': [17, 2],\n",
       "    'failed_teps': [],\n",
       "    'actions': [],\n",
       "    'episode_died': 0},\n",
       "   'RandomControllerCecilia': {'name': 'RandomControllerCecilia',\n",
       "    'start_coords': [1, 10],\n",
       "    'last_coords': [1, 10],\n",
       "    'failed_teps': [],\n",
       "    'actions': [],\n",
       "    'episode_died': 0},\n",
       "   'EvaderController--Marwin': {'name': 'EvaderController--Marwin',\n",
       "    'start_coords': [11, 15],\n",
       "    'last_coords': [11, 15],\n",
       "    'failed_teps': [],\n",
       "    'actions': [],\n",
       "    'episode_died': 0},\n",
       "   'RandomControllerBob': {'name': 'RandomControllerBob',\n",
       "    'start_coords': [17, 10],\n",
       "    'last_coords': [17, 10],\n",
       "    'failed_teps': [],\n",
       "    'actions': [],\n",
       "    'episode_died': 0},\n",
       "   'RandomControllerAlice': {'name': 'RandomControllerAlice',\n",
       "    'start_coords': [5, 17],\n",
       "    'last_coords': [5, 17],\n",
       "    'failed_teps': [],\n",
       "    'actions': [],\n",
       "    'episode_died': 0}},\n",
       "  'episodes_number': 0}]"
      ]
     },
     "execution_count": 51,
     "metadata": {},
     "output_type": "execute_result"
    }
   ],
   "source": [
    "example_parsed_data"
   ]
  },
  {
   "cell_type": "markdown",
   "id": "bronze-order",
   "metadata": {},
   "source": [
    "## 11:15 games"
   ]
  },
  {
   "cell_type": "code",
   "execution_count": 9,
   "id": "beneficial-samoa",
   "metadata": {},
   "outputs": [],
   "source": [
    "DIR_PATH_11_15 = '11_15__2021_10_24'\n",
    "log_files = glob.glob(f'{DIR_PATH_11_15}/*.json')"
   ]
  },
  {
   "cell_type": "code",
   "execution_count": 21,
   "id": "crucial-apparel",
   "metadata": {},
   "outputs": [],
   "source": [
    "json_log_path = log_files[0]"
   ]
  },
  {
   "cell_type": "code",
   "execution_count": null,
   "id": "electric-ireland",
   "metadata": {},
   "outputs": [],
   "source": [
    "games = "
   ]
  }
 ],
 "metadata": {
  "kernelspec": {
   "display_name": "Python 3",
   "language": "python",
   "name": "python3"
  },
  "language_info": {
   "codemirror_mode": {
    "name": "ipython",
    "version": 3
   },
   "file_extension": ".py",
   "mimetype": "text/x-python",
   "name": "python",
   "nbconvert_exporter": "python",
   "pygments_lexer": "ipython3",
   "version": "3.8.5"
  }
 },
 "nbformat": 4,
 "nbformat_minor": 5
}
